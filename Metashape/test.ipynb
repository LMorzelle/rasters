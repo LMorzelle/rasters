{
 "cells": [
  {
   "cell_type": "code",
   "execution_count": 2,
   "metadata": {},
   "outputs": [],
   "source": [
    "import pdal\n",
    "pdal.__version__\n",
    "import json\n",
    "import pandas as pd\n",
    "import numpy as np\n",
    "import pdal\n",
    "from pathlib import Path # KW_dense_cloud-22-58.las\n",
    "import geopandas as gpd\n",
    "from shapely.geometry import Point\n",
    "from shapely import wkt\n",
    "from osgeo import gdal\n",
    "import rasterio\n",
    "import rioxarray as rxr\n",
    "from rasterio.features import shapes\n",
    "\n",
    "dc_data = Path(r\"P:\\Korttid\\pbm\\point_cloud\")"
   ]
  },
  {
   "cell_type": "code",
   "execution_count": 68,
   "metadata": {},
   "outputs": [
    {
     "ename": "KeyboardInterrupt",
     "evalue": "",
     "output_type": "error",
     "traceback": [
      "\u001b[31m---------------------------------------------------------------------------\u001b[39m",
      "\u001b[31mKeyboardInterrupt\u001b[39m                         Traceback (most recent call last)",
      "\u001b[36mCell\u001b[39m\u001b[36m \u001b[39m\u001b[32mIn[68]\u001b[39m\u001b[32m, line 38\u001b[39m\n\u001b[32m     36\u001b[39m \u001b[38;5;28;01mfor\u001b[39;00m array \u001b[38;5;129;01min\u001b[39;00m arrays:\n\u001b[32m     37\u001b[39m     \u001b[38;5;28;01mif\u001b[39;00m \u001b[38;5;28mlen\u001b[39m(array) >= \u001b[32m1\u001b[39m:\n\u001b[32m---> \u001b[39m\u001b[32m38\u001b[39m         output = \u001b[43mpd\u001b[49m\u001b[43m.\u001b[49m\u001b[43mconcat\u001b[49m\u001b[43m(\u001b[49m\u001b[43m[\u001b[49m\u001b[43moutput\u001b[49m\u001b[43m,\u001b[49m\u001b[43m \u001b[49m\u001b[43mpd\u001b[49m\u001b[43m.\u001b[49m\u001b[43mDataFrame\u001b[49m\u001b[43m(\u001b[49m\u001b[43marray\u001b[49m\u001b[43m)\u001b[49m\u001b[43m.\u001b[49m\u001b[43miloc\u001b[49m\u001b[43m[\u001b[49m\u001b[32;43m0\u001b[39;49m\u001b[43m]\u001b[49m\u001b[43m.\u001b[49m\u001b[43mto_frame\u001b[49m\u001b[43m(\u001b[49m\u001b[43m)\u001b[49m\u001b[43m.\u001b[49m\u001b[43mT\u001b[49m\u001b[43m]\u001b[49m\u001b[43m,\u001b[49m\u001b[43m \u001b[49m\u001b[43mignore_index\u001b[49m\u001b[43m=\u001b[49m\u001b[38;5;28;43;01mTrue\u001b[39;49;00m\u001b[43m)\u001b[49m\n",
      "\u001b[36mFile \u001b[39m\u001b[32mc:\\Users\\PBm\\AppData\\Local\\miniconda3\\envs\\leila\\Lib\\site-packages\\pandas\\core\\reshape\\concat.py:395\u001b[39m, in \u001b[36mconcat\u001b[39m\u001b[34m(objs, axis, join, ignore_index, keys, levels, names, verify_integrity, sort, copy)\u001b[39m\n\u001b[32m    380\u001b[39m     copy = \u001b[38;5;28;01mFalse\u001b[39;00m\n\u001b[32m    382\u001b[39m op = _Concatenator(\n\u001b[32m    383\u001b[39m     objs,\n\u001b[32m    384\u001b[39m     axis=axis,\n\u001b[32m   (...)\u001b[39m\u001b[32m    392\u001b[39m     sort=sort,\n\u001b[32m    393\u001b[39m )\n\u001b[32m--> \u001b[39m\u001b[32m395\u001b[39m \u001b[38;5;28;01mreturn\u001b[39;00m \u001b[43mop\u001b[49m\u001b[43m.\u001b[49m\u001b[43mget_result\u001b[49m\u001b[43m(\u001b[49m\u001b[43m)\u001b[49m\n",
      "\u001b[36mFile \u001b[39m\u001b[32mc:\\Users\\PBm\\AppData\\Local\\miniconda3\\envs\\leila\\Lib\\site-packages\\pandas\\core\\reshape\\concat.py:684\u001b[39m, in \u001b[36m_Concatenator.get_result\u001b[39m\u001b[34m(self)\u001b[39m\n\u001b[32m    680\u001b[39m             indexers[ax] = obj_labels.get_indexer(new_labels)\n\u001b[32m    682\u001b[39m     mgrs_indexers.append((obj._mgr, indexers))\n\u001b[32m--> \u001b[39m\u001b[32m684\u001b[39m new_data = \u001b[43mconcatenate_managers\u001b[49m\u001b[43m(\u001b[49m\n\u001b[32m    685\u001b[39m \u001b[43m    \u001b[49m\u001b[43mmgrs_indexers\u001b[49m\u001b[43m,\u001b[49m\u001b[43m \u001b[49m\u001b[38;5;28;43mself\u001b[39;49m\u001b[43m.\u001b[49m\u001b[43mnew_axes\u001b[49m\u001b[43m,\u001b[49m\u001b[43m \u001b[49m\u001b[43mconcat_axis\u001b[49m\u001b[43m=\u001b[49m\u001b[38;5;28;43mself\u001b[39;49m\u001b[43m.\u001b[49m\u001b[43mbm_axis\u001b[49m\u001b[43m,\u001b[49m\u001b[43m \u001b[49m\u001b[43mcopy\u001b[49m\u001b[43m=\u001b[49m\u001b[38;5;28;43mself\u001b[39;49m\u001b[43m.\u001b[49m\u001b[43mcopy\u001b[49m\n\u001b[32m    686\u001b[39m \u001b[43m\u001b[49m\u001b[43m)\u001b[49m\n\u001b[32m    687\u001b[39m \u001b[38;5;28;01mif\u001b[39;00m \u001b[38;5;129;01mnot\u001b[39;00m \u001b[38;5;28mself\u001b[39m.copy \u001b[38;5;129;01mand\u001b[39;00m \u001b[38;5;129;01mnot\u001b[39;00m using_copy_on_write():\n\u001b[32m    688\u001b[39m     new_data._consolidate_inplace()\n",
      "\u001b[36mFile \u001b[39m\u001b[32mc:\\Users\\PBm\\AppData\\Local\\miniconda3\\envs\\leila\\Lib\\site-packages\\pandas\\core\\internals\\concat.py:146\u001b[39m, in \u001b[36mconcatenate_managers\u001b[39m\u001b[34m(mgrs_indexers, axes, concat_axis, copy)\u001b[39m\n\u001b[32m    139\u001b[39m         \u001b[38;5;28;01mif\u001b[39;00m (\n\u001b[32m    140\u001b[39m             \u001b[38;5;28mall\u001b[39m(_is_homogeneous_mgr(mgr, first_dtype) \u001b[38;5;28;01mfor\u001b[39;00m mgr, _ \u001b[38;5;129;01min\u001b[39;00m mgrs_indexers)\n\u001b[32m    141\u001b[39m             \u001b[38;5;129;01mand\u001b[39;00m \u001b[38;5;28mlen\u001b[39m(mgrs_indexers) > \u001b[32m1\u001b[39m\n\u001b[32m    142\u001b[39m         ):\n\u001b[32m    143\u001b[39m             \u001b[38;5;66;03m# Fastpath!\u001b[39;00m\n\u001b[32m    144\u001b[39m             \u001b[38;5;66;03m# Length restriction is just to avoid having to worry about 'copy'\u001b[39;00m\n\u001b[32m    145\u001b[39m             shape = \u001b[38;5;28mtuple\u001b[39m(\u001b[38;5;28mlen\u001b[39m(x) \u001b[38;5;28;01mfor\u001b[39;00m x \u001b[38;5;129;01min\u001b[39;00m axes)\n\u001b[32m--> \u001b[39m\u001b[32m146\u001b[39m             nb = \u001b[43m_concat_homogeneous_fastpath\u001b[49m\u001b[43m(\u001b[49m\u001b[43mmgrs_indexers\u001b[49m\u001b[43m,\u001b[49m\u001b[43m \u001b[49m\u001b[43mshape\u001b[49m\u001b[43m,\u001b[49m\u001b[43m \u001b[49m\u001b[43mfirst_dtype\u001b[49m\u001b[43m)\u001b[49m\n\u001b[32m    147\u001b[39m             \u001b[38;5;28;01mreturn\u001b[39;00m BlockManager((nb,), axes)\n\u001b[32m    149\u001b[39m mgrs = _maybe_reindex_columns_na_proxy(axes, mgrs_indexers, needs_copy)\n",
      "\u001b[36mFile \u001b[39m\u001b[32mc:\\Users\\PBm\\AppData\\Local\\miniconda3\\envs\\leila\\Lib\\site-packages\\pandas\\core\\internals\\concat.py:262\u001b[39m, in \u001b[36m_concat_homogeneous_fastpath\u001b[39m\u001b[34m(mgrs_indexers, shape, first_dtype)\u001b[39m\n\u001b[32m    259\u001b[39m \u001b[38;5;28;01mif\u001b[39;00m \u001b[38;5;28mall\u001b[39m(\u001b[38;5;129;01mnot\u001b[39;00m indexers \u001b[38;5;28;01mfor\u001b[39;00m _, indexers \u001b[38;5;129;01min\u001b[39;00m mgrs_indexers):\n\u001b[32m    260\u001b[39m     \u001b[38;5;66;03m# https://github.com/pandas-dev/pandas/pull/52685#issuecomment-1523287739\u001b[39;00m\n\u001b[32m    261\u001b[39m     arrs = [mgr.blocks[\u001b[32m0\u001b[39m].values.T \u001b[38;5;28;01mfor\u001b[39;00m mgr, _ \u001b[38;5;129;01min\u001b[39;00m mgrs_indexers]\n\u001b[32m--> \u001b[39m\u001b[32m262\u001b[39m     arr = \u001b[43mnp\u001b[49m\u001b[43m.\u001b[49m\u001b[43mconcatenate\u001b[49m\u001b[43m(\u001b[49m\u001b[43marrs\u001b[49m\u001b[43m)\u001b[49m.T\n\u001b[32m    263\u001b[39m     bp = libinternals.BlockPlacement(\u001b[38;5;28mslice\u001b[39m(shape[\u001b[32m0\u001b[39m]))\n\u001b[32m    264\u001b[39m     nb = new_block_2d(arr, bp)\n",
      "\u001b[31mKeyboardInterrupt\u001b[39m: "
     ]
    }
   ],
   "source": [
    "data = dc_data\n",
    "for file_name in [\"point_cloud-*-*.las\"]:\n",
    "    output = pd.DataFrame()\n",
    "    for i, path in enumerate(data.glob(file_name)):\n",
    "\n",
    "        args = [\n",
    "                {\n",
    "                    \"type\" : \"readers.las\",\n",
    "                    \"filename\" : f\"{str(Path(data,path.name))}\",\n",
    "    #                \"in_srs\" : \"EPSG:2056\",\n",
    "                    \"extra_dims\" : [\"confidence=uint8\", \"normal=uint8\"] # for dense cloud\n",
    "                },\n",
    "                {\n",
    "                    \"type\":\"filters.splitter\",\n",
    "                    \"length\":\"1\",\n",
    "                    \"origin_x\":\"2600000.0\",\n",
    "                    \"origin_y\":\"1200000.0\"\n",
    "                },    \n",
    "                {\n",
    "                    \"type\":\"filters.python\",\n",
    "                    \"script\":\"filter.py\",\n",
    "                    \"function\":\"get_bin_statistics\",\n",
    "                    \"module\":\"anything\",\n",
    "                    \"add_dimension\": [\"count=int8\", \"conf=float32\"]\n",
    "                }\n",
    "            ]\n",
    "\n",
    "\n",
    "        pipeline = pdal.Pipeline(json.dumps(args))\n",
    "        count = pipeline.execute()\n",
    "        arrays = pipeline.arrays\n",
    "        metadata = pipeline.metadata\n",
    "        log = pipeline.log\n",
    "\n",
    "\n",
    "        for array in arrays:\n",
    "            if len(array) >= 1:\n",
    "                output = pd.concat([output, pd.DataFrame(array).iloc[0].to_frame().T], ignore_index=True)\n",
    "        "
   ]
  },
  {
   "cell_type": "code",
   "execution_count": 69,
   "metadata": {},
   "outputs": [
    {
     "data": {
      "text/plain": [
       "240"
      ]
     },
     "execution_count": 69,
     "metadata": {},
     "output_type": "execute_result"
    }
   ],
   "source": [
    "i"
   ]
  },
  {
   "cell_type": "code",
   "execution_count": 57,
   "metadata": {},
   "outputs": [
    {
     "data": {
      "application/vnd.microsoft.datawrangler.viewer.v0+json": {
       "columns": [
        {
         "name": "index",
         "rawType": "int64",
         "type": "integer"
        },
        {
         "name": "0",
         "rawType": "float64",
         "type": "float"
        }
       ],
       "conversionMethod": "pd.DataFrame",
       "ref": "82c24d96-9aa9-4078-9326-dc775f9dc5ed",
       "rows": [
        [
         "0",
         "2776207.5"
        ],
        [
         "1",
         "1159041.5"
        ],
        [
         "2",
         "2738.41"
        ],
        [
         "3",
         "0.0"
        ],
        [
         "4",
         "1.0"
        ],
        [
         "5",
         "1.0"
        ],
        [
         "6",
         "1.0"
        ],
        [
         "7",
         "0.0"
        ],
        [
         "8",
         "0.0"
        ],
        [
         "9",
         "0.0"
        ],
        [
         "10",
         "0.0"
        ],
        [
         "11",
         "0.0"
        ],
        [
         "12",
         "0.0"
        ],
        [
         "13",
         "0.0"
        ],
        [
         "14",
         "0.0"
        ],
        [
         "15",
         "1.0"
        ],
        [
         "16",
         "52171.0"
        ],
        [
         "17",
         "53199.0"
        ],
        [
         "18",
         "53713.0"
        ],
        [
         "19",
         "6.0"
        ],
        [
         "20",
         "10.0"
        ],
        [
         "21",
         "2.0"
        ],
        [
         "22",
         "6.0"
        ],
        [
         "23",
         "2776209.5"
        ],
        [
         "24",
         "1159041.5"
        ],
        [
         "25",
         "2737.96"
        ],
        [
         "26",
         "0.0"
        ],
        [
         "27",
         "1.0"
        ],
        [
         "28",
         "1.0"
        ],
        [
         "29",
         "1.0"
        ],
        [
         "30",
         "0.0"
        ],
        [
         "31",
         "0.0"
        ],
        [
         "32",
         "0.0"
        ],
        [
         "33",
         "0.0"
        ],
        [
         "34",
         "0.0"
        ],
        [
         "35",
         "0.0"
        ],
        [
         "36",
         "0.0"
        ],
        [
         "37",
         "0.0"
        ],
        [
         "38",
         "1.0"
        ],
        [
         "39",
         "50886.0"
        ],
        [
         "40",
         "52171.0"
        ],
        [
         "41",
         "52171.0"
        ],
        [
         "42",
         "6.0"
        ],
        [
         "43",
         "26.0"
        ],
        [
         "44",
         "3.0"
        ],
        [
         "45",
         "6.0"
        ]
       ],
       "shape": {
        "columns": 1,
        "rows": 46
       }
      },
      "text/html": [
       "<div>\n",
       "<style scoped>\n",
       "    .dataframe tbody tr th:only-of-type {\n",
       "        vertical-align: middle;\n",
       "    }\n",
       "\n",
       "    .dataframe tbody tr th {\n",
       "        vertical-align: top;\n",
       "    }\n",
       "\n",
       "    .dataframe thead th {\n",
       "        text-align: right;\n",
       "    }\n",
       "</style>\n",
       "<table border=\"1\" class=\"dataframe\">\n",
       "  <thead>\n",
       "    <tr style=\"text-align: right;\">\n",
       "      <th></th>\n",
       "      <th>0</th>\n",
       "    </tr>\n",
       "  </thead>\n",
       "  <tbody>\n",
       "    <tr>\n",
       "      <th>0</th>\n",
       "      <td>2776207.50</td>\n",
       "    </tr>\n",
       "    <tr>\n",
       "      <th>1</th>\n",
       "      <td>1159041.50</td>\n",
       "    </tr>\n",
       "    <tr>\n",
       "      <th>2</th>\n",
       "      <td>2738.41</td>\n",
       "    </tr>\n",
       "    <tr>\n",
       "      <th>3</th>\n",
       "      <td>0.00</td>\n",
       "    </tr>\n",
       "    <tr>\n",
       "      <th>4</th>\n",
       "      <td>1.00</td>\n",
       "    </tr>\n",
       "    <tr>\n",
       "      <th>5</th>\n",
       "      <td>1.00</td>\n",
       "    </tr>\n",
       "    <tr>\n",
       "      <th>6</th>\n",
       "      <td>1.00</td>\n",
       "    </tr>\n",
       "    <tr>\n",
       "      <th>7</th>\n",
       "      <td>0.00</td>\n",
       "    </tr>\n",
       "    <tr>\n",
       "      <th>8</th>\n",
       "      <td>0.00</td>\n",
       "    </tr>\n",
       "    <tr>\n",
       "      <th>9</th>\n",
       "      <td>0.00</td>\n",
       "    </tr>\n",
       "    <tr>\n",
       "      <th>10</th>\n",
       "      <td>0.00</td>\n",
       "    </tr>\n",
       "    <tr>\n",
       "      <th>11</th>\n",
       "      <td>0.00</td>\n",
       "    </tr>\n",
       "    <tr>\n",
       "      <th>12</th>\n",
       "      <td>0.00</td>\n",
       "    </tr>\n",
       "    <tr>\n",
       "      <th>13</th>\n",
       "      <td>0.00</td>\n",
       "    </tr>\n",
       "    <tr>\n",
       "      <th>14</th>\n",
       "      <td>0.00</td>\n",
       "    </tr>\n",
       "    <tr>\n",
       "      <th>15</th>\n",
       "      <td>1.00</td>\n",
       "    </tr>\n",
       "    <tr>\n",
       "      <th>16</th>\n",
       "      <td>52171.00</td>\n",
       "    </tr>\n",
       "    <tr>\n",
       "      <th>17</th>\n",
       "      <td>53199.00</td>\n",
       "    </tr>\n",
       "    <tr>\n",
       "      <th>18</th>\n",
       "      <td>53713.00</td>\n",
       "    </tr>\n",
       "    <tr>\n",
       "      <th>19</th>\n",
       "      <td>6.00</td>\n",
       "    </tr>\n",
       "    <tr>\n",
       "      <th>20</th>\n",
       "      <td>10.00</td>\n",
       "    </tr>\n",
       "    <tr>\n",
       "      <th>21</th>\n",
       "      <td>2.00</td>\n",
       "    </tr>\n",
       "    <tr>\n",
       "      <th>22</th>\n",
       "      <td>6.00</td>\n",
       "    </tr>\n",
       "    <tr>\n",
       "      <th>23</th>\n",
       "      <td>2776209.50</td>\n",
       "    </tr>\n",
       "    <tr>\n",
       "      <th>24</th>\n",
       "      <td>1159041.50</td>\n",
       "    </tr>\n",
       "    <tr>\n",
       "      <th>25</th>\n",
       "      <td>2737.96</td>\n",
       "    </tr>\n",
       "    <tr>\n",
       "      <th>26</th>\n",
       "      <td>0.00</td>\n",
       "    </tr>\n",
       "    <tr>\n",
       "      <th>27</th>\n",
       "      <td>1.00</td>\n",
       "    </tr>\n",
       "    <tr>\n",
       "      <th>28</th>\n",
       "      <td>1.00</td>\n",
       "    </tr>\n",
       "    <tr>\n",
       "      <th>29</th>\n",
       "      <td>1.00</td>\n",
       "    </tr>\n",
       "    <tr>\n",
       "      <th>30</th>\n",
       "      <td>0.00</td>\n",
       "    </tr>\n",
       "    <tr>\n",
       "      <th>31</th>\n",
       "      <td>0.00</td>\n",
       "    </tr>\n",
       "    <tr>\n",
       "      <th>32</th>\n",
       "      <td>0.00</td>\n",
       "    </tr>\n",
       "    <tr>\n",
       "      <th>33</th>\n",
       "      <td>0.00</td>\n",
       "    </tr>\n",
       "    <tr>\n",
       "      <th>34</th>\n",
       "      <td>0.00</td>\n",
       "    </tr>\n",
       "    <tr>\n",
       "      <th>35</th>\n",
       "      <td>0.00</td>\n",
       "    </tr>\n",
       "    <tr>\n",
       "      <th>36</th>\n",
       "      <td>0.00</td>\n",
       "    </tr>\n",
       "    <tr>\n",
       "      <th>37</th>\n",
       "      <td>0.00</td>\n",
       "    </tr>\n",
       "    <tr>\n",
       "      <th>38</th>\n",
       "      <td>1.00</td>\n",
       "    </tr>\n",
       "    <tr>\n",
       "      <th>39</th>\n",
       "      <td>50886.00</td>\n",
       "    </tr>\n",
       "    <tr>\n",
       "      <th>40</th>\n",
       "      <td>52171.00</td>\n",
       "    </tr>\n",
       "    <tr>\n",
       "      <th>41</th>\n",
       "      <td>52171.00</td>\n",
       "    </tr>\n",
       "    <tr>\n",
       "      <th>42</th>\n",
       "      <td>6.00</td>\n",
       "    </tr>\n",
       "    <tr>\n",
       "      <th>43</th>\n",
       "      <td>26.00</td>\n",
       "    </tr>\n",
       "    <tr>\n",
       "      <th>44</th>\n",
       "      <td>3.00</td>\n",
       "    </tr>\n",
       "    <tr>\n",
       "      <th>45</th>\n",
       "      <td>6.00</td>\n",
       "    </tr>\n",
       "  </tbody>\n",
       "</table>\n",
       "</div>"
      ],
      "text/plain": [
       "             0\n",
       "0   2776207.50\n",
       "1   1159041.50\n",
       "2      2738.41\n",
       "3         0.00\n",
       "4         1.00\n",
       "5         1.00\n",
       "6         1.00\n",
       "7         0.00\n",
       "8         0.00\n",
       "9         0.00\n",
       "10        0.00\n",
       "11        0.00\n",
       "12        0.00\n",
       "13        0.00\n",
       "14        0.00\n",
       "15        1.00\n",
       "16    52171.00\n",
       "17    53199.00\n",
       "18    53713.00\n",
       "19        6.00\n",
       "20       10.00\n",
       "21        2.00\n",
       "22        6.00\n",
       "23  2776209.50\n",
       "24  1159041.50\n",
       "25     2737.96\n",
       "26        0.00\n",
       "27        1.00\n",
       "28        1.00\n",
       "29        1.00\n",
       "30        0.00\n",
       "31        0.00\n",
       "32        0.00\n",
       "33        0.00\n",
       "34        0.00\n",
       "35        0.00\n",
       "36        0.00\n",
       "37        0.00\n",
       "38        1.00\n",
       "39    50886.00\n",
       "40    52171.00\n",
       "41    52171.00\n",
       "42        6.00\n",
       "43       26.00\n",
       "44        3.00\n",
       "45        6.00"
      ]
     },
     "execution_count": 57,
     "metadata": {},
     "output_type": "execute_result"
    }
   ],
   "source": [
    "df1 = pd.DataFrame(arrays[0]).iloc[0].to_frame()\n",
    "df2 = pd.DataFrame(arrays[1]).iloc[0].to_frame()\n",
    "concatenated_df = pd.concat([df1, df2], ignore_index=True)\n",
    "concatenated_df"
   ]
  },
  {
   "cell_type": "code",
   "execution_count": null,
   "metadata": {},
   "outputs": [
    {
     "data": {
      "application/vnd.microsoft.datawrangler.viewer.v0+json": {
       "columns": [
        {
         "name": "index",
         "rawType": "int64",
         "type": "integer"
        },
        {
         "name": "X",
         "rawType": "float64",
         "type": "float"
        },
        {
         "name": "Y",
         "rawType": "float64",
         "type": "float"
        },
        {
         "name": "Z",
         "rawType": "float64",
         "type": "float"
        },
        {
         "name": "Intensity",
         "rawType": "uint16",
         "type": "integer"
        },
        {
         "name": "ReturnNumber",
         "rawType": "uint8",
         "type": "integer"
        },
        {
         "name": "NumberOfReturns",
         "rawType": "uint8",
         "type": "integer"
        },
        {
         "name": "ScanDirectionFlag",
         "rawType": "uint8",
         "type": "integer"
        },
        {
         "name": "EdgeOfFlightLine",
         "rawType": "uint8",
         "type": "integer"
        },
        {
         "name": "Classification",
         "rawType": "uint8",
         "type": "integer"
        },
        {
         "name": "Synthetic",
         "rawType": "uint8",
         "type": "integer"
        },
        {
         "name": "KeyPoint",
         "rawType": "uint8",
         "type": "integer"
        },
        {
         "name": "Withheld",
         "rawType": "uint8",
         "type": "integer"
        },
        {
         "name": "Overlap",
         "rawType": "uint8",
         "type": "integer"
        },
        {
         "name": "ScanAngleRank",
         "rawType": "float32",
         "type": "float"
        },
        {
         "name": "UserData",
         "rawType": "uint8",
         "type": "integer"
        },
        {
         "name": "PointSourceId",
         "rawType": "uint16",
         "type": "integer"
        },
        {
         "name": "Red",
         "rawType": "uint16",
         "type": "integer"
        },
        {
         "name": "Green",
         "rawType": "uint16",
         "type": "integer"
        },
        {
         "name": "Blue",
         "rawType": "uint16",
         "type": "integer"
        },
        {
         "name": "confidence",
         "rawType": "uint8",
         "type": "integer"
        },
        {
         "name": "normal",
         "rawType": "uint8",
         "type": "integer"
        },
        {
         "name": "count",
         "rawType": "int8",
         "type": "integer"
        },
        {
         "name": "conf",
         "rawType": "float32",
         "type": "float"
        }
       ],
       "conversionMethod": "pd.DataFrame",
       "ref": "da7da50a-fc5c-414f-a35f-1b253833da26",
       "rows": [
        [
         "0",
         "2776127.5",
         "1157873.5",
         "2898.64",
         "0",
         "1",
         "1",
         "1",
         "0",
         "0",
         "0",
         "0",
         "0",
         "0",
         "0.0",
         "0",
         "1",
         "40606",
         "41377",
         "41120",
         "6",
         "68",
         "1",
         "6.0"
        ]
       ],
       "shape": {
        "columns": 23,
        "rows": 1
       }
      },
      "text/html": [
       "<div>\n",
       "<style scoped>\n",
       "    .dataframe tbody tr th:only-of-type {\n",
       "        vertical-align: middle;\n",
       "    }\n",
       "\n",
       "    .dataframe tbody tr th {\n",
       "        vertical-align: top;\n",
       "    }\n",
       "\n",
       "    .dataframe thead th {\n",
       "        text-align: right;\n",
       "    }\n",
       "</style>\n",
       "<table border=\"1\" class=\"dataframe\">\n",
       "  <thead>\n",
       "    <tr style=\"text-align: right;\">\n",
       "      <th></th>\n",
       "      <th>X</th>\n",
       "      <th>Y</th>\n",
       "      <th>Z</th>\n",
       "      <th>Intensity</th>\n",
       "      <th>ReturnNumber</th>\n",
       "      <th>NumberOfReturns</th>\n",
       "      <th>ScanDirectionFlag</th>\n",
       "      <th>EdgeOfFlightLine</th>\n",
       "      <th>Classification</th>\n",
       "      <th>Synthetic</th>\n",
       "      <th>...</th>\n",
       "      <th>ScanAngleRank</th>\n",
       "      <th>UserData</th>\n",
       "      <th>PointSourceId</th>\n",
       "      <th>Red</th>\n",
       "      <th>Green</th>\n",
       "      <th>Blue</th>\n",
       "      <th>confidence</th>\n",
       "      <th>normal</th>\n",
       "      <th>count</th>\n",
       "      <th>conf</th>\n",
       "    </tr>\n",
       "  </thead>\n",
       "  <tbody>\n",
       "    <tr>\n",
       "      <th>0</th>\n",
       "      <td>2776127.5</td>\n",
       "      <td>1157873.5</td>\n",
       "      <td>2898.64</td>\n",
       "      <td>0</td>\n",
       "      <td>1</td>\n",
       "      <td>1</td>\n",
       "      <td>1</td>\n",
       "      <td>0</td>\n",
       "      <td>0</td>\n",
       "      <td>0</td>\n",
       "      <td>...</td>\n",
       "      <td>0.0</td>\n",
       "      <td>0</td>\n",
       "      <td>1</td>\n",
       "      <td>40606</td>\n",
       "      <td>41377</td>\n",
       "      <td>41120</td>\n",
       "      <td>6</td>\n",
       "      <td>68</td>\n",
       "      <td>1</td>\n",
       "      <td>6.0</td>\n",
       "    </tr>\n",
       "  </tbody>\n",
       "</table>\n",
       "<p>1 rows × 23 columns</p>\n",
       "</div>"
      ],
      "text/plain": [
       "           X          Y        Z  Intensity  ReturnNumber  NumberOfReturns  \\\n",
       "0  2776127.5  1157873.5  2898.64          0             1                1   \n",
       "\n",
       "   ScanDirectionFlag  EdgeOfFlightLine  Classification  Synthetic  ...  \\\n",
       "0                  1                 0               0          0  ...   \n",
       "\n",
       "   ScanAngleRank  UserData  PointSourceId    Red  Green   Blue  confidence  \\\n",
       "0            0.0         0              1  40606  41377  41120           6   \n",
       "\n",
       "   normal  count  conf  \n",
       "0      68      1   6.0  \n",
       "\n",
       "[1 rows x 23 columns]"
      ]
     },
     "execution_count": 37,
     "metadata": {},
     "output_type": "execute_result"
    }
   ],
   "source": []
  },
  {
   "cell_type": "code",
   "execution_count": null,
   "metadata": {},
   "outputs": [],
   "source": []
  }
 ],
 "metadata": {
  "kernelspec": {
   "display_name": "leila",
   "language": "python",
   "name": "python3"
  },
  "language_info": {
   "codemirror_mode": {
    "name": "ipython",
    "version": 3
   },
   "file_extension": ".py",
   "mimetype": "text/x-python",
   "name": "python",
   "nbconvert_exporter": "python",
   "pygments_lexer": "ipython3",
   "version": "3.13.2"
  }
 },
 "nbformat": 4,
 "nbformat_minor": 2
}
