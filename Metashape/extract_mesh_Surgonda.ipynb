{
 "cells": [
  {
   "cell_type": "code",
   "execution_count": 1,
   "metadata": {},
   "outputs": [],
   "source": [
    "import pdal\n",
    "pdal.__version__\n",
    "import json\n",
    "import pandas as pd\n",
    "import numpy as np\n",
    "import pdal\n",
    "from pathlib import Path # KW_dense_cloud-22-58.las\n",
    "import geopandas as gpd\n",
    "from shapely.geometry import Point\n",
    "from shapely import wkt\n",
    "from osgeo import gdal\n",
    "import rasterio\n",
    "import rioxarray as rxr\n",
    "from rasterio.features import shapes"
   ]
  },
  {
   "cell_type": "code",
   "execution_count": 2,
   "metadata": {},
   "outputs": [
    {
     "data": {
      "text/plain": [
       "'3.4.5'"
      ]
     },
     "execution_count": 2,
     "metadata": {},
     "output_type": "execute_result"
    }
   ],
   "source": [
    "pdal.__version__"
   ]
  },
  {
   "cell_type": "code",
   "execution_count": 3,
   "metadata": {},
   "outputs": [],
   "source": [
    "mesh_data = Path(r\"P:\\Korttid\\pbm\\3Dmodel.obj\")"
   ]
  },
  {
   "cell_type": "code",
   "execution_count": 4,
   "metadata": {},
   "outputs": [],
   "source": [
    "def get_bin_statistics(array, length=1):\n",
    "    df = pd.DataFrame(array)\n",
    "    metadata = {\n",
    "        \"bin_x\": np.floor(df.loc[:,\"X\"].min())+length/2,\n",
    "        \"bin_y\": np.floor(df.loc[:,\"Y\"].min())+length/2,\n",
    "        \"bin_count\": len(array),\n",
    "        \"bin_conf_sum\": df.loc[:,\"confidence\"].sum()\n",
    "    }\n",
    "    \n",
    "    return pd.DataFrame([metadata])\n",
    "\n",
    "def get_bin_statistics_without_conf(array, length=1):\n",
    "    df = pd.DataFrame(array)\n",
    "    metadata = {\n",
    "        \"bin_x\": np.floor(df.loc[:,\"X\"].min())+length/2,\n",
    "        \"bin_y\": np.floor(df.loc[:,\"Y\"].min())+length/2,\n",
    "        \"bin_count\": len(array)\n",
    "        #\"bin_conf_sum\": df.loc[:,\"Confidence\"].sum()\n",
    "    }\n",
    "    \n",
    "    return pd.DataFrame([metadata])"
   ]
  },
  {
   "cell_type": "code",
   "execution_count": null,
   "metadata": {},
   "outputs": [],
   "source": [
    "data = mesh_data\n",
    "\n",
    "output = pd.DataFrame()\n",
    "\n",
    "args = [\n",
    "        {\n",
    "            \"type\" : \"readers.obj\",\n",
    "            \"filename\" : f\"{str(Path(data))}\",\n",
    "        },\n",
    "        {\n",
    "            \"type\":\"filters.splitter\",\n",
    "            \"length\":\"1\",\n",
    "            \"origin_x\":\"2600000.0\",\n",
    "            \"origin_y\":\"1200000.0\"\n",
    "        }\n",
    "    ]\n",
    "\n",
    "\n",
    "pipeline = pdal.Pipeline(json.dumps(args))\n",
    "count = pipeline.execute()\n",
    "arrays = pipeline.arrays\n",
    "metadata = pipeline.metadata\n",
    "log = pipeline.log\n",
    "for array in arrays:\n",
    "    output = pd.concat([output, get_bin_statistics_without_conf(array)], ignore_index=True)\n",
    "    \n",
    "compiled_output = output.groupby([\"bin_x\",\"bin_y\"]).sum().reset_index()\n",
    "\n",
    "gdf = gpd.GeoDataFrame(compiled_output, geometry=gpd.points_from_xy(compiled_output.bin_x, compiled_output.bin_y))\n",
    "# Set the CRS (assuming EPSG:32633 based on previous comments)\n",
    "gdf.set_crs(epsg=2056, inplace=True)\n",
    "\n",
    "gdf.rename(columns={'bin_x': 'x', 'bin_y': 'y'}, inplace=True)\n",
    "# Convert GeoDataFrame to rioxarray object\n",
    "rioxarray_obj = gdf.set_index(['y', 'x']).to_xarray()\n",
    "rioxarray_obj = rioxarray_obj.drop_vars('geometry')\n",
    "# Save the rioxarray object to a NetCDF file\n",
    "rioxarray_obj.to_netcdf(mesh_data / f\"mesh_vertices_raster.nc\")\n",
    "rioxarray_obj[\"bin_count\"].plot()"
   ]
  }
 ],
 "metadata": {
  "kernelspec": {
   "display_name": "leila",
   "language": "python",
   "name": "python3"
  },
  "language_info": {
   "codemirror_mode": {
    "name": "ipython",
    "version": 3
   },
   "file_extension": ".py",
   "mimetype": "text/x-python",
   "name": "python",
   "nbconvert_exporter": "python",
   "pygments_lexer": "ipython3",
   "version": "3.13.2"
  }
 },
 "nbformat": 4,
 "nbformat_minor": 2
}
