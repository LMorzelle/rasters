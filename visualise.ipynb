{
 "cells": [
  {
   "cell_type": "code",
   "execution_count": 2,
   "metadata": {},
   "outputs": [],
   "source": [
    "import numpy as np\n",
    "from netCDF4 import Dataset\n",
    "\n",
    "# Create a sample 3D NetCDF file\n",
    "ncfile = Dataset('sample.nc', mode='w', format='NETCDF4')\n",
    "\n",
    "# Create dimensions\n",
    "ncfile.createDimension('x', 10)\n",
    "ncfile.createDimension('y', 10)\n",
    "ncfile.createDimension('z', 10)\n",
    "\n",
    "# Create variables\n",
    "x = ncfile.createVariable('x', np.float32, ('x',))\n",
    "y = ncfile.createVariable('y', np.float32, ('y',))\n",
    "z = ncfile.createVariable('z', np.float32, ('z',))\n",
    "data = ncfile.createVariable('data', np.float32, ('x', 'y', 'z'))\n",
    "\n",
    "# Assign data to variables\n",
    "x[:] = np.arange(10)\n",
    "y[:] = np.arange(10)\n",
    "z[:] = np.arange(10)\n",
    "data[:, :, :] = np.random.random((10, 10, 10))\n",
    "\n",
    "# Close the file\n",
    "ncfile.close()\n"
   ]
  },
  {
   "cell_type": "code",
   "execution_count": 4,
   "metadata": {},
   "outputs": [
    {
     "name": "stderr",
     "output_type": "stream",
     "text": [
      "ERROR:root:[json.exception.parse_error.101] parse error at line 1, column 1: syntax error while parsing value - invalid literal; last read: 'P'\n",
      "ERROR:root:Failed to load file from stream\n",
      "ERROR:root:Error loading model metadata\n"
     ]
    },
    {
     "ename": "AttributeError",
     "evalue": "'NoneType' object has no attribute 'GetAddressAsString'",
     "output_type": "error",
     "traceback": [
      "\u001b[31m---------------------------------------------------------------------------\u001b[39m",
      "\u001b[31mAttributeError\u001b[39m                            Traceback (most recent call last)",
      "\u001b[36mCell\u001b[39m\u001b[36m \u001b[39m\u001b[32mIn[4]\u001b[39m\u001b[32m, line 2\u001b[39m\n\u001b[32m      1\u001b[39m pl = pyvista.Plotter()\n\u001b[32m----> \u001b[39m\u001b[32m2\u001b[39m \u001b[43mpl\u001b[49m\u001b[43m.\u001b[49m\u001b[43mimport_gltf\u001b[49m\u001b[43m(\u001b[49m\u001b[33;43mr\u001b[39;49m\u001b[33;43m\"\u001b[39;49m\u001b[33;43mP:\u001b[39;49m\u001b[33;43m\\\u001b[39;49m\u001b[33;43mKorttid\u001b[39;49m\u001b[33;43m\\\u001b[39;49m\u001b[33;43mpbm\u001b[39;49m\u001b[33;43m\\\u001b[39;49m\u001b[33;43mtiled-model-bardella.zip\u001b[39;49m\u001b[33;43m\"\u001b[39;49m\u001b[43m)\u001b[49m\n\u001b[32m      3\u001b[39m \u001b[38;5;66;03m#pl.set_environment_texture(texture)\u001b[39;00m\n\u001b[32m      4\u001b[39m pl.camera.zoom(\u001b[32m1.7\u001b[39m)\n",
      "\u001b[36mFile \u001b[39m\u001b[32mc:\\Users\\PBm\\AppData\\Local\\miniconda3\\envs\\leila\\Lib\\site-packages\\pyvista\\plotting\\plotter.py:473\u001b[39m, in \u001b[36mBasePlotter.import_gltf\u001b[39m\u001b[34m(self, filename, set_camera)\u001b[39m\n\u001b[32m    471\u001b[39m \u001b[38;5;66;03m# register last actor in actors\u001b[39;00m\n\u001b[32m    472\u001b[39m actor = \u001b[38;5;28mself\u001b[39m.renderer.GetActors().GetLastItem()\n\u001b[32m--> \u001b[39m\u001b[32m473\u001b[39m name = \u001b[43mactor\u001b[49m\u001b[43m.\u001b[49m\u001b[43mGetAddressAsString\u001b[49m(\u001b[33m\"\u001b[39m\u001b[33m\"\u001b[39m)\n\u001b[32m    474\u001b[39m \u001b[38;5;28mself\u001b[39m.renderer._actors[name] = actor\n\u001b[32m    476\u001b[39m \u001b[38;5;66;03m# set camera position to a three.js viewing perspective\u001b[39;00m\n",
      "\u001b[31mAttributeError\u001b[39m: 'NoneType' object has no attribute 'GetAddressAsString'"
     ]
    }
   ],
   "source": [
    "pl = pyvista.Plotter()\n",
    "pl.import_gltf(r\"P:\\Korttid\\pbm\\tiled-model-bardella.zip\")\n",
    "#pl.set_environment_texture(texture)\n",
    "pl.camera.zoom(1.7)\n",
    "pl.show()"
   ]
  },
  {
   "cell_type": "code",
   "execution_count": null,
   "metadata": {},
   "outputs": [],
   "source": []
  }
 ],
 "metadata": {
  "kernelspec": {
   "display_name": "gdf-tool",
   "language": "python",
   "name": "python3"
  },
  "language_info": {
   "codemirror_mode": {
    "name": "ipython",
    "version": 3
   },
   "file_extension": ".py",
   "mimetype": "text/x-python",
   "name": "python",
   "nbconvert_exporter": "python",
   "pygments_lexer": "ipython3",
   "version": "3.12.0"
  }
 },
 "nbformat": 4,
 "nbformat_minor": 2
}
