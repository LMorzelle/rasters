{
 "cells": [
  {
   "cell_type": "code",
   "execution_count": 1,
   "metadata": {},
   "outputs": [
    {
     "name": "stderr",
     "output_type": "stream",
     "text": [
      "c:\\Users\\PBm\\AppData\\Local\\miniconda3\\envs\\leila\\Lib\\site-packages\\pyvista\\examples\\downloads.py:98: UserWarning: Unable to access C:\\Users\\PBm\\AppData\\Local\\pyvista_3\\pyvista_3\\Cache. Manually specify the PyVistaexamples cache with the PYVISTA_USERDATA_PATH environment variable.\n",
      "  warnings.warn(\n"
     ]
    }
   ],
   "source": [
    "from __future__ import annotations\n",
    "\n",
    "import pyvista\n",
    "from pyvista import examples\n",
    "from pathlib import Path\n",
    "\n",
    "import vtk\n",
    "import pyvista as pv\n",
    "import pvxarray\n",
    "\n",
    "import rioxarray as rxr\n",
    "import numpy as np\n",
    "import xarray as xr\n",
    "import gemgis as gg\n",
    "\n"
   ]
  },
  {
   "cell_type": "code",
   "execution_count": null,
   "metadata": {},
   "outputs": [],
   "source": [
    "#dem_west = r\"C:\\Users\\PBm\\OneDrive - NGI\\Shared\\Leila\\DEM\\DEM_western_part.tif\"\n",
    "\n",
    "#dem_west = rxr.open_rasterio(dem_west, masked=True)\n",
    "#dem_west = dem_west.rio.reproject(dem_west.rio.crs, resolution=50)\n",
    "#dem_west.rio.to_raster(r\"C:\\Users\\PBm\\OneDrive - NGI\\Shared\\Leila\\DEM\\dem_western_part_50m.tif\")"
   ]
  },
  {
   "cell_type": "code",
   "execution_count": 13,
   "metadata": {},
   "outputs": [
    {
     "name": "stderr",
     "output_type": "stream",
     "text": [
      "c:\\Users\\PBm\\AppData\\Local\\miniconda3\\envs\\leila\\Lib\\site-packages\\pyproj\\crs\\_cf1x8.py:515: UserWarning: angle from rectified to skew grid parameter lost in conversion to CF\n",
      "  warnings.warn(\n"
     ]
    }
   ],
   "source": [
    "dem_west = Path(r\"C:\\Users\\PBm\\OneDrive - NGI\\Shared\\Leila\\DEM\\DEM_western_part_50m.tif\")\n",
    "dem_west = rxr.open_rasterio(dem_west, masked=True)\n",
    "dem_west -= 10\n",
    "dem_west_mesh = dem_west.pyvista.mesh(x=\"x\", y=\"y\", z=\"band\")\n",
    "dem_west_mesh = dem_west_mesh.warp_by_scalar()"
   ]
  },
  {
   "cell_type": "code",
   "execution_count": 14,
   "metadata": {},
   "outputs": [
    {
     "data": {
      "text/plain": [
       "(2770000.0, 1148000.0, 2781000.0, 1160000.0)"
      ]
     },
     "execution_count": 14,
     "metadata": {},
     "output_type": "execute_result"
    }
   ],
   "source": [
    "dem_west.rio.bounds()"
   ]
  },
  {
   "cell_type": "code",
   "execution_count": 15,
   "metadata": {},
   "outputs": [
    {
     "data": {
      "application/vnd.jupyter.widget-view+json": {
       "model_id": "a67b7a28780342eeafcd55613c95a126",
       "version_major": 2,
       "version_minor": 0
      },
      "text/plain": [
       "Widget(value='<iframe src=\"http://localhost:58637/index.html?ui=P_0x21654eac2d0_2&reconnect=auto\" class=\"pyvis…"
      ]
     },
     "metadata": {},
     "output_type": "display_data"
    }
   ],
   "source": [
    "root_folder = Path(r\"C:\\Users\\PBm\\OneDrive - NGI\\Shared\\Leila\")\n",
    "scale = 5\n",
    "folders = [folder for folder in root_folder.iterdir() if folder.is_dir()]\n",
    "\n",
    "combined_bounds = (2770000, 2781000, 1148000, 1160000, 2500, 3500)\n",
    "\n",
    "pl = pyvista.Plotter(notebook=True, lighting='three lights', window_size=[2000, 2000])\n",
    "pl.camera.zoom(1.2)\n",
    "\n",
    "pl.add_mesh(dem_west_mesh, opacity=0.2, style='wireframe', color='gray', show_edges=True, line_width=0.5)\n",
    "\n",
    "for folder in folders:\n",
    "    # Load the mesh file\n",
    "    try:\n",
    "        loaded_mesh = pv.read(folder / f\"pvista_{scale}m.vtk\")\n",
    "\n",
    "        # Load the texture data from the .npy file\n",
    "        loaded_texture = np.load(folder / f\"pvista_{scale}m_texture.npy\")#pl.iren.add_observer(vtk.vtkCommand.EndInteractionEvent, my_cpos_callback)\n",
    "        pl.add_mesh(loaded_mesh, opacity=1, texture=loaded_texture)\n",
    "    except:\n",
    "        pass\n",
    "    continue\n",
    "\n",
    "\n",
    "pl.show_grid(bounds=combined_bounds, xtitle=\"X\", ytitle=\"Y\", ztitle=\"Z\", use_2d=False)\n",
    "pl.show()\n",
    "\n"
   ]
  },
  {
   "cell_type": "code",
   "execution_count": 7,
   "metadata": {},
   "outputs": [
    {
     "data": {
      "text/plain": [
       "[WindowsPath('C:/Users/PBm/OneDrive - NGI/Shared/Leila/1. Bardella'),\n",
       " WindowsPath('C:/Users/PBm/OneDrive - NGI/Shared/Leila/2. Surgonda et Corn margun'),\n",
       " WindowsPath('C:/Users/PBm/OneDrive - NGI/Shared/Leila/3. Err+calderas'),\n",
       " WindowsPath('C:/Users/PBm/OneDrive - NGI/Shared/Leila/4. Alp Val + Bial'),\n",
       " WindowsPath(\"C:/Users/PBm/OneDrive - NGI/Shared/Leila/5. Forcla d'Agnel sud\"),\n",
       " WindowsPath(\"C:/Users/PBm/OneDrive - NGI/Shared/Leila/6. Forcla d'Agnel nord\"),\n",
       " WindowsPath('C:/Users/PBm/OneDrive - NGI/Shared/Leila/7. Jenatsch sud'),\n",
       " WindowsPath('C:/Users/PBm/OneDrive - NGI/Shared/Leila/8. Jenatsch sud f6'),\n",
       " WindowsPath('C:/Users/PBm/OneDrive - NGI/Shared/Leila/9. Corn Alv')]"
      ]
     },
     "execution_count": 7,
     "metadata": {},
     "output_type": "execute_result"
    }
   ],
   "source": [
    "folders"
   ]
  },
  {
   "cell_type": "code",
   "execution_count": 181,
   "metadata": {},
   "outputs": [
    {
     "data": {
      "application/vnd.jupyter.widget-view+json": {
       "model_id": "f5d1038acdc240cd9beef7128cba2a62",
       "version_major": 2,
       "version_minor": 0
      },
      "text/plain": [
       "Widget(value='<iframe src=\"http://localhost:64926/index.html?ui=P_0x217bd0a5310_41&reconnect=auto\" class=\"pyvi…"
      ]
     },
     "metadata": {},
     "output_type": "display_data"
    }
   ],
   "source": [
    "pl = pyvista.Plotter(notebook=True, lighting='three lights')\n",
    "pl.camera.zoom(1.2)\n",
    "\n",
    "\n",
    "#pl.iren.add_observer(vtk.vtkCommand.EndInteractionEvent, my_cpos_callback)\n",
    "pl.add_mesh(loaded_mesh, opacity=1, texture=loaded_texture)\n",
    "pl.show()"
   ]
  },
  {
   "cell_type": "code",
   "execution_count": null,
   "metadata": {},
   "outputs": [
    {
     "ename": "AttributeError",
     "evalue": "'StructuredGrid' object has no attribute 'textures'",
     "output_type": "error",
     "traceback": [
      "\u001b[31m---------------------------------------------------------------------------\u001b[39m",
      "\u001b[31mAttributeError\u001b[39m                            Traceback (most recent call last)",
      "\u001b[36mCell\u001b[39m\u001b[36m \u001b[39m\u001b[32mIn[127]\u001b[39m\u001b[32m, line 1\u001b[39m\n\u001b[32m----> \u001b[39m\u001b[32m1\u001b[39m \u001b[43mmesh\u001b[49m\u001b[43m.\u001b[49m\u001b[43mtextures\u001b[49m[\u001b[33m\"\u001b[39m\u001b[33mortho\u001b[39m\u001b[33m\"\u001b[39m] = tex\n",
      "\u001b[36mFile \u001b[39m\u001b[32mc:\\Users\\PBm\\AppData\\Local\\miniconda3\\envs\\leila\\Lib\\site-packages\\pyvista\\core\\dataset.py:158\u001b[39m, in \u001b[36mDataSet.__getattr__\u001b[39m\u001b[34m(self, item)\u001b[39m\n\u001b[32m    156\u001b[39m \u001b[38;5;28;01mdef\u001b[39;00m\u001b[38;5;250m \u001b[39m\u001b[34m__getattr__\u001b[39m(\u001b[38;5;28mself\u001b[39m, item) -> Any:\n\u001b[32m    157\u001b[39m \u001b[38;5;250m    \u001b[39m\u001b[33;03m\"\"\"Get attribute from base class if not found.\"\"\"\u001b[39;00m\n\u001b[32m--> \u001b[39m\u001b[32m158\u001b[39m     \u001b[38;5;28;01mreturn\u001b[39;00m \u001b[38;5;28;43msuper\u001b[39;49m\u001b[43m(\u001b[49m\u001b[43m)\u001b[49m\u001b[43m.\u001b[49m\u001b[34;43m__getattribute__\u001b[39;49m\u001b[43m(\u001b[49m\u001b[43mitem\u001b[49m\u001b[43m)\u001b[49m\n",
      "\u001b[31mAttributeError\u001b[39m: 'StructuredGrid' object has no attribute 'textures'"
     ]
    }
   ],
   "source": [
    "pv.save_meshio"
   ]
  },
  {
   "cell_type": "code",
   "execution_count": null,
   "metadata": {},
   "outputs": [
    {
     "name": "stderr",
     "output_type": "stream",
     "text": [
      "c:\\Users\\PBm\\AppData\\Local\\miniconda3\\envs\\leila\\Lib\\site-packages\\pvxarray\\rectilinear.py:41: DataCopyWarning: Made a copy of the multicomponent array - VTK/PyVista data not shared with xarray.\n",
      "  warnings.warn(\n"
     ]
    }
   ],
   "source": [
    "mesh = ortho_projected.pyvista.mesh(x=\"x\", y=\"y\", component=\"band\")"
   ]
  },
  {
   "cell_type": "code",
   "execution_count": null,
   "metadata": {},
   "outputs": [],
   "source": []
  }
 ],
 "metadata": {
  "kernelspec": {
   "display_name": "leila",
   "language": "python",
   "name": "python3"
  },
  "language_info": {
   "codemirror_mode": {
    "name": "ipython",
    "version": 3
   },
   "file_extension": ".py",
   "mimetype": "text/x-python",
   "name": "python",
   "nbconvert_exporter": "python",
   "pygments_lexer": "ipython3",
   "version": "3.13.2"
  }
 },
 "nbformat": 4,
 "nbformat_minor": 2
}
