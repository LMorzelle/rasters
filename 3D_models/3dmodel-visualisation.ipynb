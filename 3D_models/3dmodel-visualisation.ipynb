{
 "cells": [
  {
   "cell_type": "code",
   "execution_count": 189,
   "metadata": {},
   "outputs": [],
   "source": [
    "from __future__ import annotations\n",
    "\n",
    "import pyvista\n",
    "from pyvista import examples\n",
    "from pathlib import Path\n",
    "\n",
    "import vtk\n",
    "import pyvista as pv\n",
    "import pvxarray\n",
    "\n",
    "import rioxarray as rxr\n",
    "import numpy as np\n",
    "import xarray as xr\n",
    "import gemgis as gg\n",
    "\n"
   ]
  },
  {
   "cell_type": "code",
   "execution_count": 195,
   "metadata": {},
   "outputs": [
    {
     "name": "stdout",
     "output_type": "stream",
     "text": [
      "Error processing Laviner: 'C:\\Users\\PBm\\OneDrive - NGI\\Shared\\Leila\\Laviner\\orthomosaic.tif' not recognized as being in a supported file format.\n"
     ]
    }
   ],
   "source": [
    "root_folder = Path(r\"C:\\Users\\PBm\\OneDrive - NGI\\Shared\\Leila\")\n",
    "scale = 5\n",
    "folders = [folder for folder in root_folder.iterdir() if folder.is_dir()]\n",
    "\n",
    "for folder in folders:\n",
    "\n",
    "    if not (folder / f\"pvista_{scale}m_texture.npy\").exists():\n",
    "        \n",
    "        try:\n",
    "            dem = rxr.open_rasterio(folder / \"DEM.tif\", masked=True)\n",
    "            ortho = rxr.open_rasterio(folder / \"orthomosaic.tif\", masked=False)\n",
    "\n",
    "\n",
    "            ortho_projected = ortho.rio.reproject_match(dem)\n",
    "            ortho_projected = ortho_projected.assign_coords(x=dem.x, y=dem.y)\n",
    "\n",
    "            dem_1m = dem.rio.reproject(dem.rio.crs, resolution=scale)\n",
    "            ortho_projected = ortho.rio.reproject(dem.rio.crs, resolution=int(scale/2))\n",
    "            ortho_projected = ortho_projected.astype(np.uint8)\n",
    "\n",
    "            mesh = dem_1m.pyvista.mesh(x=\"x\", y=\"y\", z=\"band\")\n",
    "            o = ortho_projected.x.min(), ortho_projected.y.min(), 0\n",
    "            u = ortho_projected.x.max(), ortho_projected.y.min(), 0\n",
    "            v = ortho_projected.x.min(), ortho_projected.y.max(), 0\n",
    "            mesh.texture_map_to_plane(o, u, v, inplace=True)\n",
    "            mesh = mesh.warp_by_scalar()\n",
    "\n",
    "            mesh.save(\n",
    "                folder / f\"pvista_{scale}m.vtk\"\n",
    "            )\n",
    "\n",
    "            np.save(folder / f\"pvista_{scale}m_texture.npy\", ortho_projected.to_numpy().transpose(1, 2, 0)[:, :, :4])\n",
    "        except Exception as e:\n",
    "            print(f\"Error processing {folder.name}: {e}\")\n",
    "\n",
    "        continue\n"
   ]
  },
  {
   "cell_type": "code",
   "execution_count": null,
   "metadata": {},
   "outputs": [],
   "source": [
    "folders"
   ]
  },
  {
   "cell_type": "code",
   "execution_count": 180,
   "metadata": {},
   "outputs": [],
   "source": [
    "# Load the mesh file\n",
    "folder = Path(r\"C:\\Users\\PBm\\OneDrive - NGI\\Shared\\Leila\\2. Surgonda et Corn margun\")\n",
    "loaded_mesh = pv.read(folder / f\"pvista_{scale}m.vtk\")\n",
    "\n",
    "# Load the texture data from the .npy file\n",
    "loaded_texture = np.load(folder / f\"pvista_{scale}m_texture.npy\")"
   ]
  },
  {
   "cell_type": "code",
   "execution_count": 181,
   "metadata": {},
   "outputs": [
    {
     "data": {
      "application/vnd.jupyter.widget-view+json": {
       "model_id": "f5d1038acdc240cd9beef7128cba2a62",
       "version_major": 2,
       "version_minor": 0
      },
      "text/plain": [
       "Widget(value='<iframe src=\"http://localhost:64926/index.html?ui=P_0x217bd0a5310_41&reconnect=auto\" class=\"pyvi…"
      ]
     },
     "metadata": {},
     "output_type": "display_data"
    }
   ],
   "source": [
    "pl = pyvista.Plotter(notebook=True, lighting='three lights')\n",
    "pl.camera.zoom(1.2)\n",
    "\n",
    "\n",
    "#pl.iren.add_observer(vtk.vtkCommand.EndInteractionEvent, my_cpos_callback)\n",
    "pl.add_mesh(loaded_mesh, opacity=1, texture=loaded_texture)\n",
    "pl.show()"
   ]
  },
  {
   "cell_type": "code",
   "execution_count": null,
   "metadata": {},
   "outputs": [
    {
     "ename": "AttributeError",
     "evalue": "'StructuredGrid' object has no attribute 'textures'",
     "output_type": "error",
     "traceback": [
      "\u001b[31m---------------------------------------------------------------------------\u001b[39m",
      "\u001b[31mAttributeError\u001b[39m                            Traceback (most recent call last)",
      "\u001b[36mCell\u001b[39m\u001b[36m \u001b[39m\u001b[32mIn[127]\u001b[39m\u001b[32m, line 1\u001b[39m\n\u001b[32m----> \u001b[39m\u001b[32m1\u001b[39m \u001b[43mmesh\u001b[49m\u001b[43m.\u001b[49m\u001b[43mtextures\u001b[49m[\u001b[33m\"\u001b[39m\u001b[33mortho\u001b[39m\u001b[33m\"\u001b[39m] = tex\n",
      "\u001b[36mFile \u001b[39m\u001b[32mc:\\Users\\PBm\\AppData\\Local\\miniconda3\\envs\\leila\\Lib\\site-packages\\pyvista\\core\\dataset.py:158\u001b[39m, in \u001b[36mDataSet.__getattr__\u001b[39m\u001b[34m(self, item)\u001b[39m\n\u001b[32m    156\u001b[39m \u001b[38;5;28;01mdef\u001b[39;00m\u001b[38;5;250m \u001b[39m\u001b[34m__getattr__\u001b[39m(\u001b[38;5;28mself\u001b[39m, item) -> Any:\n\u001b[32m    157\u001b[39m \u001b[38;5;250m    \u001b[39m\u001b[33;03m\"\"\"Get attribute from base class if not found.\"\"\"\u001b[39;00m\n\u001b[32m--> \u001b[39m\u001b[32m158\u001b[39m     \u001b[38;5;28;01mreturn\u001b[39;00m \u001b[38;5;28;43msuper\u001b[39;49m\u001b[43m(\u001b[49m\u001b[43m)\u001b[49m\u001b[43m.\u001b[49m\u001b[34;43m__getattribute__\u001b[39;49m\u001b[43m(\u001b[49m\u001b[43mitem\u001b[49m\u001b[43m)\u001b[49m\n",
      "\u001b[31mAttributeError\u001b[39m: 'StructuredGrid' object has no attribute 'textures'"
     ]
    }
   ],
   "source": [
    "pv.save_meshio"
   ]
  },
  {
   "cell_type": "code",
   "execution_count": null,
   "metadata": {},
   "outputs": [
    {
     "name": "stderr",
     "output_type": "stream",
     "text": [
      "c:\\Users\\PBm\\AppData\\Local\\miniconda3\\envs\\leila\\Lib\\site-packages\\pvxarray\\rectilinear.py:41: DataCopyWarning: Made a copy of the multicomponent array - VTK/PyVista data not shared with xarray.\n",
      "  warnings.warn(\n"
     ]
    }
   ],
   "source": [
    "mesh = ortho_projected.pyvista.mesh(x=\"x\", y=\"y\", component=\"band\")"
   ]
  },
  {
   "cell_type": "code",
   "execution_count": null,
   "metadata": {},
   "outputs": [],
   "source": []
  }
 ],
 "metadata": {
  "kernelspec": {
   "display_name": "leila",
   "language": "python",
   "name": "python3"
  },
  "language_info": {
   "codemirror_mode": {
    "name": "ipython",
    "version": 3
   },
   "file_extension": ".py",
   "mimetype": "text/x-python",
   "name": "python",
   "nbconvert_exporter": "python",
   "pygments_lexer": "ipython3",
   "version": "3.13.2"
  }
 },
 "nbformat": 4,
 "nbformat_minor": 2
}
