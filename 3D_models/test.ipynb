{
 "cells": [
  {
   "cell_type": "code",
   "execution_count": 1,
   "metadata": {},
   "outputs": [
    {
     "name": "stderr",
     "output_type": "stream",
     "text": [
      "c:\\Users\\Peter\\miniconda3\\envs\\pyvista\\Lib\\site-packages\\pyvista\\examples\\downloads.py:98: UserWarning: Unable to access C:\\Users\\Peter\\AppData\\Local\\pyvista_3\\pyvista_3\\Cache. Manually specify the PyVistaexamples cache with the PYVISTA_USERDATA_PATH environment variable.\n",
      "  warnings.warn(\n"
     ]
    }
   ],
   "source": [
    "from __future__ import annotations\n",
    "\n",
    "import pyvista\n",
    "from pyvista import examples\n",
    "from pathlib import Path\n",
    "\n",
    "import vtk\n",
    "import pyvista as pv\n",
    "\n",
    "item_path = r\"C:\\Users\\Peter\\OneDrive - NGI\\Shared\\Leila\\3Dmodel_Jenatschsudf6.glb\"\n",
    "item_path2 = r\"C:\\Users\\Peter\\OneDrive - NGI\\Shared\\Leila\\3Dmodel_Jenatschsud.glb\""
   ]
  },
  {
   "cell_type": "code",
   "execution_count": 2,
   "metadata": {},
   "outputs": [],
   "source": [
    "item = pv.read(item_path)\n",
    "item2 = pv.read(item_path2)"
   ]
  },
  {
   "cell_type": "code",
   "execution_count": 3,
   "metadata": {},
   "outputs": [
    {
     "name": "stdout",
     "output_type": "stream",
     "text": [
      "Combined Bounds: (2772871.25, 2775658.25, 1154523.625, 1157264.5, 2587.1181640625, 3398.468017578125)\n"
     ]
    }
   ],
   "source": [
    "combined_bounds = (\n",
    "    min(item.bounds[0], item2.bounds[0]),  # X min\n",
    "    max(item.bounds[1], item2.bounds[1]),  # X max\n",
    "    min(item.bounds[2], item2.bounds[2]),  # Y min\n",
    "    max(item.bounds[3], item2.bounds[3]),  # Y max\n",
    "    min(item.bounds[4], item2.bounds[4]),  # Z min\n",
    "    max(item.bounds[5], item2.bounds[5])   # Z max\n",
    ")\n",
    "\n",
    "print(\"Combined Bounds:\", combined_bounds)\n",
    "\n",
    "combined_bounds = (2772000, 2776000, 1154000, 1158000, 2500, 3500)"
   ]
  },
  {
   "cell_type": "code",
   "execution_count": 5,
   "metadata": {},
   "outputs": [
    {
     "name": "stderr",
     "output_type": "stream",
     "text": [
      "c:\\Users\\Peter\\miniconda3\\envs\\pyvista\\Lib\\site-packages\\pyproj\\crs\\_cf1x8.py:515: UserWarning: angle from rectified to skew grid parameter lost in conversion to CF\n",
      "  warnings.warn(\n"
     ]
    }
   ],
   "source": [
    "import rioxarray as rxr\n",
    "import numpy as np\n",
    "\n",
    "dem = rxr.open_rasterio(r\"C:\\Users\\Peter\\OneDrive - NGI\\Shared\\Leila\\DEM_Jenatsch_swisstopo.tif\", masked=True)\n",
    "dem = dem.coarsen(x=50, y=50, boundary=\"trim\").mean()\n"
   ]
  },
  {
   "cell_type": "code",
   "execution_count": 6,
   "metadata": {},
   "outputs": [],
   "source": [
    "import pvxarray"
   ]
  },
  {
   "cell_type": "code",
   "execution_count": 14,
   "metadata": {},
   "outputs": [],
   "source": [
    "dem = dem - 20\n",
    "mesh = dem.pyvista.mesh(x=\"x\", y=\"y\", z=\"band\")"
   ]
  },
  {
   "cell_type": "code",
   "execution_count": 18,
   "metadata": {},
   "outputs": [
    {
     "data": {
      "application/vnd.jupyter.widget-view+json": {
       "model_id": "39a6d3e976984c5d912b15b1dc64011e",
       "version_major": 2,
       "version_minor": 0
      },
      "text/plain": [
       "Widget(value='<iframe src=\"http://localhost:62374/index.html?ui=P_0x19b42479090_9&reconnect=auto\" class=\"pyvis…"
      ]
     },
     "metadata": {},
     "output_type": "display_data"
    }
   ],
   "source": [
    "pl = pyvista.Plotter(notebook=True, lighting='three lights')\n",
    "pl.import_gltf(item_path)\n",
    "pl.import_gltf(item_path2)\n",
    "pl.camera.zoom(1.2)\n",
    "\n",
    "def my_cpos_callback(*args):\n",
    "    pl.add_text(str(pl.camera_position), name=\"cpos\")\n",
    "    return\n",
    "\n",
    "\n",
    "#pl.iren.add_observer(vtk.vtkCommand.EndInteractionEvent, my_cpos_callback)\n",
    "pl.add_mesh(mesh.warp_by_scalar(), show_edges=True, color='white', opacity=0.5, style=\"wireframe\")\n",
    "pl.show_grid(bounds=combined_bounds, xtitle=\"X\", ytitle=\"Y\", ztitle=\"Z\", use_2d=False)\n",
    "pl.show(cpos=\"xy\")"
   ]
  },
  {
   "cell_type": "code",
   "execution_count": null,
   "metadata": {},
   "outputs": [],
   "source": []
  }
 ],
 "metadata": {
  "kernelspec": {
   "display_name": "pyvista",
   "language": "python",
   "name": "python3"
  },
  "language_info": {
   "codemirror_mode": {
    "name": "ipython",
    "version": 3
   },
   "file_extension": ".py",
   "mimetype": "text/x-python",
   "name": "python",
   "nbconvert_exporter": "python",
   "pygments_lexer": "ipython3",
   "version": "3.13.2"
  }
 },
 "nbformat": 4,
 "nbformat_minor": 2
}
